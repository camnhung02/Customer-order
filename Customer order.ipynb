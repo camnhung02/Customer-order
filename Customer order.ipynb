{
 "cells": [
  {
   "cell_type": "code",
   "execution_count": 1,
   "id": "f565f430",
   "metadata": {},
   "outputs": [],
   "source": [
    "import pandas as pd\n",
    "import numpy as np\n",
    "import matplotlib.pyplot as plt\n",
    "import seaborn as sns"
   ]
  },
  {
   "cell_type": "code",
   "execution_count": 2,
   "id": "e96f8048",
   "metadata": {},
   "outputs": [],
   "source": [
    "df= pd.read_csv(r'C:\\Users\\T3DCOMPUTER\\Downloads\\casestudy.csv')"
   ]
  },
  {
   "cell_type": "code",
   "execution_count": 3,
   "id": "c1fd3ce7",
   "metadata": {},
   "outputs": [
    {
     "name": "stdout",
     "output_type": "stream",
     "text": [
      "<class 'pandas.core.frame.DataFrame'>\n",
      "RangeIndex: 685927 entries, 0 to 685926\n",
      "Data columns (total 4 columns):\n",
      " #   Column          Non-Null Count   Dtype  \n",
      "---  ------          --------------   -----  \n",
      " 0   Unnamed: 0      685927 non-null  int64  \n",
      " 1   customer_email  685927 non-null  object \n",
      " 2   net_revenue     685927 non-null  float64\n",
      " 3   year            685927 non-null  int64  \n",
      "dtypes: float64(1), int64(2), object(1)\n",
      "memory usage: 20.9+ MB\n"
     ]
    }
   ],
   "source": [
    "df.info()"
   ]
  },
  {
   "cell_type": "markdown",
   "id": "09f645f6",
   "metadata": {},
   "source": [
    "No null values. All columns are in the right data types."
   ]
  },
  {
   "cell_type": "code",
   "execution_count": 4,
   "id": "742c71ef",
   "metadata": {},
   "outputs": [],
   "source": [
    "del df['Unnamed: 0']"
   ]
  },
  {
   "cell_type": "code",
   "execution_count": 5,
   "id": "c2a0c930",
   "metadata": {},
   "outputs": [
    {
     "data": {
      "text/html": [
       "<div>\n",
       "<style scoped>\n",
       "    .dataframe tbody tr th:only-of-type {\n",
       "        vertical-align: middle;\n",
       "    }\n",
       "\n",
       "    .dataframe tbody tr th {\n",
       "        vertical-align: top;\n",
       "    }\n",
       "\n",
       "    .dataframe thead th {\n",
       "        text-align: right;\n",
       "    }\n",
       "</style>\n",
       "<table border=\"1\" class=\"dataframe\">\n",
       "  <thead>\n",
       "    <tr style=\"text-align: right;\">\n",
       "      <th></th>\n",
       "      <th>customer_email</th>\n",
       "      <th>net_revenue</th>\n",
       "      <th>year</th>\n",
       "    </tr>\n",
       "  </thead>\n",
       "  <tbody>\n",
       "    <tr>\n",
       "      <th>0</th>\n",
       "      <td>nhknapwsbx@gmail.com</td>\n",
       "      <td>249.92</td>\n",
       "      <td>2015</td>\n",
       "    </tr>\n",
       "    <tr>\n",
       "      <th>1</th>\n",
       "      <td>joiuzbvcpn@gmail.com</td>\n",
       "      <td>87.61</td>\n",
       "      <td>2015</td>\n",
       "    </tr>\n",
       "    <tr>\n",
       "      <th>2</th>\n",
       "      <td>ukkjctepxt@gmail.com</td>\n",
       "      <td>168.38</td>\n",
       "      <td>2015</td>\n",
       "    </tr>\n",
       "    <tr>\n",
       "      <th>3</th>\n",
       "      <td>gykatilzrt@gmail.com</td>\n",
       "      <td>62.40</td>\n",
       "      <td>2015</td>\n",
       "    </tr>\n",
       "    <tr>\n",
       "      <th>4</th>\n",
       "      <td>mmsgsrtxah@gmail.com</td>\n",
       "      <td>43.08</td>\n",
       "      <td>2015</td>\n",
       "    </tr>\n",
       "  </tbody>\n",
       "</table>\n",
       "</div>"
      ],
      "text/plain": [
       "          customer_email  net_revenue  year\n",
       "0   nhknapwsbx@gmail.com       249.92  2015\n",
       "1   joiuzbvcpn@gmail.com        87.61  2015\n",
       "2   ukkjctepxt@gmail.com       168.38  2015\n",
       "3   gykatilzrt@gmail.com        62.40  2015\n",
       "4   mmsgsrtxah@gmail.com        43.08  2015"
      ]
     },
     "execution_count": 5,
     "metadata": {},
     "output_type": "execute_result"
    }
   ],
   "source": [
    "df.head(5)"
   ]
  },
  {
   "cell_type": "code",
   "execution_count": 6,
   "id": "df82c8a1",
   "metadata": {},
   "outputs": [],
   "source": [
    "df['customer_email'] = df['customer_email'].str.replace(' ', '')"
   ]
  },
  {
   "cell_type": "markdown",
   "id": "16cfe362",
   "metadata": {},
   "source": [
    "## Total revenue per year"
   ]
  },
  {
   "cell_type": "code",
   "execution_count": 7,
   "id": "db4ac478",
   "metadata": {},
   "outputs": [
    {
     "data": {
      "text/html": [
       "<div>\n",
       "<style scoped>\n",
       "    .dataframe tbody tr th:only-of-type {\n",
       "        vertical-align: middle;\n",
       "    }\n",
       "\n",
       "    .dataframe tbody tr th {\n",
       "        vertical-align: top;\n",
       "    }\n",
       "\n",
       "    .dataframe thead th {\n",
       "        text-align: right;\n",
       "    }\n",
       "</style>\n",
       "<table border=\"1\" class=\"dataframe\">\n",
       "  <thead>\n",
       "    <tr style=\"text-align: right;\">\n",
       "      <th></th>\n",
       "      <th>year</th>\n",
       "      <th>net_revenue</th>\n",
       "    </tr>\n",
       "  </thead>\n",
       "  <tbody>\n",
       "    <tr>\n",
       "      <th>0</th>\n",
       "      <td>2015</td>\n",
       "      <td>29036749.19</td>\n",
       "    </tr>\n",
       "    <tr>\n",
       "      <th>1</th>\n",
       "      <td>2016</td>\n",
       "      <td>25730943.59</td>\n",
       "    </tr>\n",
       "    <tr>\n",
       "      <th>2</th>\n",
       "      <td>2017</td>\n",
       "      <td>31417495.03</td>\n",
       "    </tr>\n",
       "  </tbody>\n",
       "</table>\n",
       "</div>"
      ],
      "text/plain": [
       "   year  net_revenue\n",
       "0  2015  29036749.19\n",
       "1  2016  25730943.59\n",
       "2  2017  31417495.03"
      ]
     },
     "execution_count": 7,
     "metadata": {},
     "output_type": "execute_result"
    }
   ],
   "source": [
    "total_rev= df.groupby('year').net_revenue.sum().reset_index()\n",
    "total_rev"
   ]
  },
  {
   "cell_type": "code",
   "execution_count": 8,
   "id": "f3e37492",
   "metadata": {},
   "outputs": [],
   "source": [
    "total_rev.columns=['year', 'total_rev']"
   ]
  },
  {
   "cell_type": "markdown",
   "id": "3b80b646",
   "metadata": {},
   "source": [
    "## New Customer Revenue"
   ]
  },
  {
   "cell_type": "code",
   "execution_count": 9,
   "id": "6ab413c2",
   "metadata": {},
   "outputs": [],
   "source": [
    "cus_17=df[df.year == 2017].reset_index()\n",
    "cus_16=df[df.year == 2016].reset_index()\n",
    "cus_15=df[df.year == 2015].reset_index()"
   ]
  },
  {
   "cell_type": "code",
   "execution_count": 10,
   "id": "d5d0d934",
   "metadata": {},
   "outputs": [],
   "source": [
    "new_cus_17=cus_17[-cus_17[\"customer_email\"].isin(cus_16[\"customer_email\"])]\n",
    "new_cus_16=cus_16[-cus_16[\"customer_email\"].isin(cus_15[\"customer_email\"])]"
   ]
  },
  {
   "cell_type": "code",
   "execution_count": 11,
   "id": "c69f9175",
   "metadata": {},
   "outputs": [],
   "source": [
    "new_rev_17=new_cus_17[\"net_revenue\"].sum()\n",
    "new_rev_16=new_cus_16[\"net_revenue\"].sum()"
   ]
  },
  {
   "cell_type": "code",
   "execution_count": 30,
   "id": "af2e8aba",
   "metadata": {},
   "outputs": [
    {
     "name": "stdout",
     "output_type": "stream",
     "text": [
      "New customer revenue 2017 is: 21769213.009999998\n",
      "New customer revenue 2016 is: 17206366.900000002\n"
     ]
    }
   ],
   "source": [
    "print('New customer revenue 2017 is:',new_rev_17)\n",
    "print('New customer revenue 2016 is:',new_rev_16)"
   ]
  },
  {
   "cell_type": "markdown",
   "id": "37343f3a",
   "metadata": {},
   "source": [
    "## Existing Customer Growth"
   ]
  },
  {
   "cell_type": "code",
   "execution_count": 13,
   "id": "57740e0e",
   "metadata": {},
   "outputs": [],
   "source": [
    "exist_cus_17=cus_17.merge(cus_16, how='inner', on='customer_email')\n",
    "exist_cus_16=cus_16.merge(cus_15, how='inner', on='customer_email')"
   ]
  },
  {
   "cell_type": "code",
   "execution_count": 14,
   "id": "8c9badd4",
   "metadata": {},
   "outputs": [
    {
     "name": "stdout",
     "output_type": "stream",
     "text": [
      "Existing customer growth 2017 is: 63857.060000002384\n",
      "Existing customer growth 2016 is: 39043.65000000037\n"
     ]
    }
   ],
   "source": [
    "print('Existing customer growth 2017 is:',exist_cus_17[\"net_revenue_x\"].sum()-exist_cus_17[\"net_revenue_y\"].sum())\n",
    "print('Existing customer growth 2016 is:',exist_cus_16[\"net_revenue_x\"].sum()-exist_cus_16[\"net_revenue_y\"].sum())"
   ]
  },
  {
   "cell_type": "markdown",
   "id": "84905eb9",
   "metadata": {},
   "source": [
    "## Existing Customer Revenue"
   ]
  },
  {
   "cell_type": "code",
   "execution_count": 15,
   "id": "4e2a3294",
   "metadata": {},
   "outputs": [
    {
     "name": "stdout",
     "output_type": "stream",
     "text": [
      "Existing customer revenue current year (2017) is: 9648282.020000001\n",
      "Existing customer revenue prior year (2016) is: 9584424.959999999\n"
     ]
    }
   ],
   "source": [
    "print('Existing customer revenue current year (2017) is:',exist_cus_17[\"net_revenue_x\"].sum())\n",
    "print('Existing customer revenue prior year (2016) is:',exist_cus_17[\"net_revenue_y\"].sum())"
   ]
  },
  {
   "cell_type": "code",
   "execution_count": 17,
   "id": "4fdfbe50",
   "metadata": {},
   "outputs": [
    {
     "name": "stdout",
     "output_type": "stream",
     "text": [
      "Existing customer revenue current year (2016) is: 8524576.69\n",
      "Existing customer revenue prior year (2015) is: 8485533.04\n"
     ]
    }
   ],
   "source": [
    "print('Existing customer revenue current year (2016) is:',exist_cus_16[\"net_revenue_x\"].sum())\n",
    "print('Existing customer revenue prior year (2015) is:',exist_cus_16[\"net_revenue_y\"].sum())"
   ]
  },
  {
   "cell_type": "markdown",
   "id": "492c848e",
   "metadata": {},
   "source": [
    "## New customer"
   ]
  },
  {
   "cell_type": "code",
   "execution_count": 18,
   "id": "9dc24536",
   "metadata": {},
   "outputs": [
    {
     "name": "stdout",
     "output_type": "stream",
     "text": [
      "New customer email 2017: 1         qvjfterwnk@gmail.com\n",
      "4         fdkiioqtli@gmail.com\n",
      "5         vpsfdhgrfo@gmail.com\n",
      "9         pnnenkxlpj@gmail.com\n",
      "10        qkjragcrsd@gmail.com\n",
      "                  ...         \n",
      "249982    qzqttwiftu@gmail.com\n",
      "249983    pjodiifjop@gmail.com\n",
      "249984    appaplmgko@gmail.com\n",
      "249985    wvkpmwsgck@gmail.com\n",
      "249986    aregboumbw@gmail.com\n",
      "Name: customer_email, Length: 173449, dtype: object\n"
     ]
    }
   ],
   "source": [
    "print('New customer email 2017:',new_cus_17['customer_email'])"
   ]
  },
  {
   "cell_type": "code",
   "execution_count": 19,
   "id": "ab26afde",
   "metadata": {},
   "outputs": [
    {
     "name": "stdout",
     "output_type": "stream",
     "text": [
      "New customer email 2016: 0         mwrossuukz@gmail.com\n",
      "1         gkwsoupawk@gmail.com\n",
      "2         vlyigtgfzs@gmail.com\n",
      "3         yfirychuhk@gmail.com\n",
      "4         trnzgqinuu@gmail.com\n",
      "                  ...         \n",
      "204638    tnaiqnnlpb@gmail.com\n",
      "204639    sqodpufunf@gmail.com\n",
      "204640    dcakqgznnm@gmail.com\n",
      "204642    rdotspqdxi@gmail.com\n",
      "204643    fkweqlmmjw@gmail.com\n",
      "Name: customer_email, Length: 136891, dtype: object\n"
     ]
    }
   ],
   "source": [
    "print('New customer email 2016:',new_cus_16['customer_email'])"
   ]
  },
  {
   "cell_type": "markdown",
   "id": "5d53158a",
   "metadata": {},
   "source": [
    "## Lost customer"
   ]
  },
  {
   "cell_type": "code",
   "execution_count": 20,
   "id": "9a9df203",
   "metadata": {},
   "outputs": [],
   "source": [
    "lost_cus_17=cus_16[-cus_16[\"customer_email\"].isin(cus_17[\"customer_email\"])]\n",
    "lost_cus_16=cus_15[-cus_15[\"customer_email\"].isin(cus_16[\"customer_email\"])]"
   ]
  },
  {
   "cell_type": "code",
   "execution_count": 21,
   "id": "5620148b",
   "metadata": {},
   "outputs": [
    {
     "name": "stdout",
     "output_type": "stream",
     "text": [
      "Lost customer email 2017: 1         gkwsoupawk@gmail.com\n",
      "4         trnzgqinuu@gmail.com\n",
      "5         hhxxpwlakg@gmail.com\n",
      "9         lfeafnigbu@gmail.com\n",
      "10        cemerinvsn@gmail.com\n",
      "                  ...         \n",
      "204639    sqodpufunf@gmail.com\n",
      "204641    mezrjfkced@gmail.com\n",
      "204642    rdotspqdxi@gmail.com\n",
      "204644    pidugzoeej@gmail.com\n",
      "204645    kxqglfdktu@gmail.com\n",
      "Name: customer_email, Length: 128108, dtype: object\n"
     ]
    }
   ],
   "source": [
    "print('Lost customer email 2017:', lost_cus_17['customer_email'])"
   ]
  },
  {
   "cell_type": "code",
   "execution_count": 22,
   "id": "4aa00c50",
   "metadata": {},
   "outputs": [
    {
     "name": "stdout",
     "output_type": "stream",
     "text": [
      "Lost customer email 2016: 0         nhknapwsbx@gmail.com\n",
      "1         joiuzbvcpn@gmail.com\n",
      "2         ukkjctepxt@gmail.com\n",
      "3         gykatilzrt@gmail.com\n",
      "4         mmsgsrtxah@gmail.com\n",
      "                  ...         \n",
      "231289    xtrpmgjbwp@gmail.com\n",
      "231290    peeorxpsbr@gmail.com\n",
      "231291    vanasezjpw@gmail.com\n",
      "231292    dnpremlztb@gmail.com\n",
      "231293    qsgswrpycl@gmail.com\n",
      "Name: customer_email, Length: 163539, dtype: object\n"
     ]
    }
   ],
   "source": [
    "print('Lost customer email 2016:', lost_cus_16['customer_email'])"
   ]
  },
  {
   "cell_type": "markdown",
   "id": "10cdcacb",
   "metadata": {},
   "source": [
    "## Total customers per year"
   ]
  },
  {
   "cell_type": "code",
   "execution_count": 23,
   "id": "17711d2e",
   "metadata": {},
   "outputs": [
    {
     "name": "stdout",
     "output_type": "stream",
     "text": [
      "Total customers 2017: 249987\n",
      "Total customers 2016: 204646\n",
      "Total customers 2015: 231294\n"
     ]
    }
   ],
   "source": [
    "print('Total customers 2017:',cus_17.shape[0])\n",
    "print('Total customers 2016:',cus_16.shape[0])\n",
    "print('Total customers 2015:',cus_15.shape[0])"
   ]
  },
  {
   "cell_type": "markdown",
   "id": "dfe0c4ae",
   "metadata": {},
   "source": [
    "## Revenue lost from Attrition"
   ]
  },
  {
   "cell_type": "code",
   "execution_count": 31,
   "id": "f7ac4bbb",
   "metadata": {},
   "outputs": [],
   "source": [
    "Rev_att_17=(lost_cus_17['net_revenue'].sum()-new_cus_17['net_revenue'].sum())\n",
    "Rev_att_16=(lost_cus_16['net_revenue'].sum()-new_cus_16['net_revenue'].sum())"
   ]
  },
  {
   "cell_type": "code",
   "execution_count": 32,
   "id": "91ee24b9",
   "metadata": {},
   "outputs": [
    {
     "name": "stdout",
     "output_type": "stream",
     "text": [
      "Revenue attrition 2017: -5622694.379999997\n",
      "Revenue attrition 2016: 3344849.25\n"
     ]
    }
   ],
   "source": [
    "print('Revenue attrition 2017:',Rev_att_17)\n",
    "print('Revenue attrition 2016:',Rev_att_16)"
   ]
  },
  {
   "cell_type": "markdown",
   "id": "a9e5a188",
   "metadata": {},
   "source": [
    "## Plot some information"
   ]
  },
  {
   "cell_type": "code",
   "execution_count": 26,
   "id": "f869ed14",
   "metadata": {},
   "outputs": [],
   "source": [
    "total_rev['total_cus']=[cus_15.shape[0],cus_16.shape[0],cus_17.shape[0]]\n",
    "total_rev['new_cus']=[0,new_cus_16.shape[0],new_cus_17.shape[0]]\n",
    "total_rev['new_rev']=[0,new_rev_16,new_rev_17]\n",
    "total_rev['lost_cus']=[0,lost_cus_16.shape[0],lost_cus_17.shape[0]]\n",
    "total_rev['lost_rev']=[0,lost_cus_16['net_revenue'].sum(),lost_cus_17['net_revenue'].sum()]"
   ]
  },
  {
   "cell_type": "code",
   "execution_count": 27,
   "id": "7045e571",
   "metadata": {},
   "outputs": [
    {
     "data": {
      "text/html": [
       "<div>\n",
       "<style scoped>\n",
       "    .dataframe tbody tr th:only-of-type {\n",
       "        vertical-align: middle;\n",
       "    }\n",
       "\n",
       "    .dataframe tbody tr th {\n",
       "        vertical-align: top;\n",
       "    }\n",
       "\n",
       "    .dataframe thead th {\n",
       "        text-align: right;\n",
       "    }\n",
       "</style>\n",
       "<table border=\"1\" class=\"dataframe\">\n",
       "  <thead>\n",
       "    <tr style=\"text-align: right;\">\n",
       "      <th></th>\n",
       "      <th>year</th>\n",
       "      <th>total_rev</th>\n",
       "      <th>total_cus</th>\n",
       "      <th>new_cus</th>\n",
       "      <th>new_rev</th>\n",
       "      <th>lost_cus</th>\n",
       "      <th>lost_rev</th>\n",
       "    </tr>\n",
       "  </thead>\n",
       "  <tbody>\n",
       "    <tr>\n",
       "      <th>0</th>\n",
       "      <td>2015</td>\n",
       "      <td>29036749.19</td>\n",
       "      <td>231294</td>\n",
       "      <td>0</td>\n",
       "      <td>0.00</td>\n",
       "      <td>0</td>\n",
       "      <td>0.00</td>\n",
       "    </tr>\n",
       "    <tr>\n",
       "      <th>1</th>\n",
       "      <td>2016</td>\n",
       "      <td>25730943.59</td>\n",
       "      <td>204646</td>\n",
       "      <td>136891</td>\n",
       "      <td>17206366.90</td>\n",
       "      <td>163539</td>\n",
       "      <td>20551216.15</td>\n",
       "    </tr>\n",
       "    <tr>\n",
       "      <th>2</th>\n",
       "      <td>2017</td>\n",
       "      <td>31417495.03</td>\n",
       "      <td>249987</td>\n",
       "      <td>173449</td>\n",
       "      <td>21769213.01</td>\n",
       "      <td>128108</td>\n",
       "      <td>16146518.63</td>\n",
       "    </tr>\n",
       "  </tbody>\n",
       "</table>\n",
       "</div>"
      ],
      "text/plain": [
       "   year    total_rev  total_cus  new_cus      new_rev  lost_cus     lost_rev\n",
       "0  2015  29036749.19     231294        0         0.00         0         0.00\n",
       "1  2016  25730943.59     204646   136891  17206366.90    163539  20551216.15\n",
       "2  2017  31417495.03     249987   173449  21769213.01    128108  16146518.63"
      ]
     },
     "execution_count": 27,
     "metadata": {},
     "output_type": "execute_result"
    }
   ],
   "source": [
    "total_rev"
   ]
  },
  {
   "cell_type": "code",
   "execution_count": 38,
   "id": "255a64b7",
   "metadata": {},
   "outputs": [
    {
     "data": {
      "text/plain": [
       "<Figure size 1080x504 with 0 Axes>"
      ]
     },
     "metadata": {},
     "output_type": "display_data"
    },
    {
     "data": {
      "image/png": "[encoded data removed]",
      "text/plain": [
       "<Figure size 1080x504 with 2 Axes>"
      ]
     },
     "metadata": {
      "needs_background": "light"
     },
     "output_type": "display_data"
    }
   ],
   "source": [
    "plt.figure(figsize=(15, 7))\n",
    "\n",
    "xs = total_rev['year']\n",
    "\n",
    "plt.figure(figsize=(15,7))\n",
    "plt.bar(xs,total_rev['total_rev'])\n",
    "plt.ylabel('Total revenue')\n",
    "plt.twinx()\n",
    "plt.plot(xs,total_rev['total_cus'],linewidth=2,color='brown',marker='o',markersize=10)\n",
    "plt.ylabel('Total customer')\n",
    "\n",
    "plt.legend(['Total customer'])\n",
    "plt.show()"
   ]
  },
  {
   "cell_type": "code",
   "execution_count": 39,
   "id": "6249d5ef",
   "metadata": {},
   "outputs": [
    {
     "data": {
      "text/plain": [
       "<Figure size 1080x504 with 0 Axes>"
      ]
     },
     "metadata": {},
     "output_type": "display_data"
    },
    {
     "data": {
      "image/png": "[encoded data removed]",
      "text/plain": [
       "<Figure size 1080x504 with 2 Axes>"
      ]
     },
     "metadata": {
      "needs_background": "light"
     },
     "output_type": "display_data"
    }
   ],
   "source": [
    "plt.figure(figsize=(15, 7))\n",
    "\n",
    "xs = total_rev['year']\n",
    "\n",
    "plt.figure(figsize=(15,7))\n",
    "plt.bar(xs,total_rev['total_rev'])\n",
    "plt.ylabel('Total revenue')\n",
    "plt.twinx()\n",
    "plt.plot(xs,total_rev['new_rev'],linewidth=2,color='brown',marker='o',markersize=10)\n",
    "plt.plot(xs,total_rev['lost_rev'],linewidth=2,color='green',marker='o',markersize=10)\n",
    "\n",
    "plt.legend(['New customer revenue','Lost customer revenue'])\n",
    "plt.show()"
   ]
  }
 ],
 "metadata": {
  "kernelspec": {
   "display_name": "Python 3 (ipykernel)",
   "language": "python",
   "name": "python3"
  },
  "language_info": {
   "codemirror_mode": {
    "name": "ipython",
    "version": 3
   },
   "file_extension": ".py",
   "mimetype": "text/x-python",
   "name": "python",
   "nbconvert_exporter": "python",
   "pygments_lexer": "ipython3",
   "version": "3.9.12"
  }
 },
 "nbformat": 4,
 "nbformat_minor": 5
}
